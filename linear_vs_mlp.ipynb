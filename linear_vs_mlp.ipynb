{
  "nbformat": 4,
  "nbformat_minor": 0,
  "metadata": {
    "colab": {
      "name": "linear_vs_mlp.ipynb",
      "provenance": [],
      "collapsed_sections": [],
      "authorship_tag": "ABX9TyPFFacwYFwQ/fLeU9vSyR6Q",
      "include_colab_link": true
    },
    "kernelspec": {
      "name": "python3",
      "display_name": "Python 3"
    }
  },
  "cells": [
    {
      "cell_type": "markdown",
      "metadata": {
        "id": "view-in-github",
        "colab_type": "text"
      },
      "source": [
        "<a href=\"https://colab.research.google.com/github/seyrankhademi/introduction2AI/blob/main/linear_vs_mlp.ipynb\" target=\"_parent\"><img src=\"https://colab.research.google.com/assets/colab-badge.svg\" alt=\"Open In Colab\"/></a>"
      ]
    },
    {
      "cell_type": "code",
      "metadata": {
        "id": "UvVqOU7eWi3N",
        "outputId": "42b2e378-b3ab-4ff0-acee-cb41344f2172",
        "colab": {
          "base_uri": "https://localhost:8080/",
          "height": 52
        }
      },
      "source": [
        "import numpy as np\n",
        "\n",
        "def myfunction(x,y,z,v):\n",
        "  #check that the points are in range between 0 and 10\n",
        "  points = np.array([x,y,z,v])\n",
        "  if (points < 0).all() and (points > 10).all(): \n",
        "    print(\"Error: The points must be between 0 and 10.\")\n",
        "\n",
        "  w1=0.4\n",
        "  w2=0.1\n",
        "  w3=0.3\n",
        "  w4=0.2\n",
        "  Decision=w1*x+w2*y+w3*z+w4*v\n",
        "  print(\"Final score for the applicant is\", + Decision)\n",
        "\n",
        "  if Decision > 5:\n",
        "   return \"The applicant is eligible for scholorship\"\n",
        "  else: \n",
        "   return \"The applicant is NOT eligible for scholorship\"\n",
        "\n",
        "myfunction(5,7,7,10)"
      ],
      "execution_count": 2,
      "outputs": [
        {
          "output_type": "stream",
          "text": [
            "Final score for the applicant is 6.800000000000001\n"
          ],
          "name": "stdout"
        },
        {
          "output_type": "execute_result",
          "data": {
            "application/vnd.google.colaboratory.intrinsic+json": {
              "type": "string"
            },
            "text/plain": [
              "'The applicant is eligible for scholorship'"
            ]
          },
          "metadata": {
            "tags": []
          },
          "execution_count": 2
        }
      ]
    },
    {
      "cell_type": "code",
      "metadata": {
        "id": "OhPtvo46wJsF",
        "outputId": "df478fed-e2c5-4653-d545-72fff1befa1d",
        "colab": {
          "base_uri": "https://localhost:8080/",
          "height": 265
        }
      },
      "source": [
        "import matplotlib.pyplot as plt\n",
        "from sklearn.preprocessing import StandardScaler\n",
        "N=100\n",
        "M=2\n",
        "fig, ax = plt.subplots()\n",
        "data1=np.random.uniform(0,8,size=(N,M))\n",
        "label1=np.ones(N)\n",
        "ax.scatter(data1[:,0], data1[:,1], c=\"red\")\n",
        "data2=np.random.uniform(5,10,size=(N,M))\n",
        "label2=np.zeros(N)\n",
        "ax.scatter(data2[:,0], data2[:,1], c=\"blue\")\n",
        "plt.show()\n",
        "data=np.concatenate((data1, data2), axis=0)\n",
        "labels=np.concatenate((label1,label2), axis=0)"
      ],
      "execution_count": 192,
      "outputs": [
        {
          "output_type": "display_data",
          "data": {
            "image/png": "[encoded data removed]",
            "text/plain": [
              "<Figure size 432x288 with 1 Axes>"
            ]
          },
          "metadata": {
            "tags": [],
            "needs_background": "light"
          }
        }
      ]
    },
    {
      "cell_type": "code",
      "metadata": {
        "id": "DlvJMcSIlDns"
      },
      "source": [
        "from sklearn.datasets import make_moons, make_circles, make_classification,make_gaussian_quantiles\n",
        "from sklearn.model_selection import train_test_split\n",
        "from sklearn.preprocessing import MinMaxScaler\n",
        "import pandas as pd\n",
        "data, labels = make_gaussian_quantiles(mean=None, cov=0.4, n_samples=1000, n_features=10, n_classes=2, shuffle=True, random_state=None)\n",
        "#data, labels = make_classification(n_samples=1000, n_features=2, n_informative=2, n_redundant=0, n_clusters_per_class=1, class_sep=0.95, random_state=1)\n",
        "scaler = MinMaxScaler(feature_range=(0, 10))\n",
        "X = scaler.fit_transform(data)\n",
        "pd.DataFrame(X).describe()\n",
        "X = StandardScaler().fit_transform(data)\n",
        "X_train, X_test, y_train, y_test = train_test_split(X, labels, test_size=.4, random_state=42)"
      ],
      "execution_count": 364,
      "outputs": []
    },
    {
      "cell_type": "code",
      "metadata": {
        "id": "rV9fSDfPNCqX",
        "outputId": "aee36906-9e18-4d41-9c12-ddfe61313444",
        "colab": {
          "base_uri": "https://localhost:8080/",
          "height": 85
        }
      },
      "source": [
        " from sklearn import svm\n",
        " from sklearn.neural_network import MLPClassifier\n",
        " clf = svm.SVC(kernel='linear')\n",
        " #clf = MLPClassifier(solver='adam', alpha=1e-3, hidden_layer_sizes=(5, 2), learning_rate_init=0.005, max_iter=1000, random_state=1)\n",
        "# data = StandardScaler().fit_transform(data)\n",
        " #clf.fit(data[:,[0, 1]],labels)\n",
        " clf.fit(X_train,y_train)"
      ],
      "execution_count": 368,
      "outputs": [
        {
          "output_type": "execute_result",
          "data": {
            "text/plain": [
              "SVC(C=1.0, break_ties=False, cache_size=200, class_weight=None, coef0=0.0,\n",
              "    decision_function_shape='ovr', degree=3, gamma='scale', kernel='linear',\n",
              "    max_iter=-1, probability=False, random_state=None, shrinking=True,\n",
              "    tol=0.001, verbose=False)"
            ]
          },
          "metadata": {
            "tags": []
          },
          "execution_count": 368
        }
      ]
    },
    {
      "cell_type": "code",
      "metadata": {
        "id": "gfnbi3Y2rW1G",
        "outputId": "5101d0ae-2cb3-4ea0-a666-9b818f74c69a",
        "colab": {
          "base_uri": "https://localhost:8080/",
          "height": 34
        }
      },
      "source": [
        "#data1_test=np.random.uniform(0,8,size=(N,M))\n",
        "#label1_test=np.ones(N)\n",
        "#data2_test=np.random.uniform(5,10,size=(N,M))\n",
        "#label2_test=np.zeros(N)\n",
        "#data_test=np.concatenate((data1_test, data2_test), axis=0)\n",
        "#data_test = StandardScaler().fit_transform(data_test)\n",
        "#y_test=np.concatenate((label1_test,label2_test), axis=0)\n",
        "#y_test = clf.predict(data_test[:,[0, 1]])\n",
        "y_pred = clf.predict(X_test)\n",
        "#Import scikit-learn metrics module for accuracy calculation\n",
        "from sklearn import metrics\n",
        "# Model Accuracy: how often is the classifier correct?\n",
        "print(\"Accuracy:\",metrics.accuracy_score(y_test, y_pred))"
      ],
      "execution_count": 369,
      "outputs": [
        {
          "output_type": "stream",
          "text": [
            "Accuracy: 0.485\n"
          ],
          "name": "stdout"
        }
      ]
    },
    {
      "cell_type": "code",
      "metadata": {
        "id": "LdL0QXXWgtAW",
        "outputId": "f97c9563-d82e-4576-cf22-a9f56cc8bf5f",
        "colab": {
          "base_uri": "https://localhost:8080/",
          "height": 586
        }
      },
      "source": [
        "from mlxtend.plotting import plot_decision_regions\n",
        "import matplotlib.gridspec as gridspec\n",
        "X = X_train\n",
        "y=y_train\n",
        "gs = gridspec.GridSpec(2, 2)\n",
        "#fig = plt.figure(figsize=(10, 8))\n",
        "fig = plot_decision_regions(X=X, y=y.astype(np.integer),clf=clf, legend=2)"
      ],
      "execution_count": 367,
      "outputs": [
        {
          "output_type": "error",
          "ename": "ValueError",
          "evalue": "ignored",
          "traceback": [
            "\u001b[0;31m---------------------------------------------------------------------------\u001b[0m",
            "\u001b[0;31mValueError\u001b[0m                                Traceback (most recent call last)",
            "\u001b[0;32m<ipython-input-367-1aaf980a82bb>\u001b[0m in \u001b[0;36m<module>\u001b[0;34m()\u001b[0m\n\u001b[1;32m      5\u001b[0m \u001b[0mgs\u001b[0m \u001b[0;34m=\u001b[0m \u001b[0mgridspec\u001b[0m\u001b[0;34m.\u001b[0m\u001b[0mGridSpec\u001b[0m\u001b[0;34m(\u001b[0m\u001b[0;36m2\u001b[0m\u001b[0;34m,\u001b[0m \u001b[0;36m2\u001b[0m\u001b[0;34m)\u001b[0m\u001b[0;34m\u001b[0m\u001b[0;34m\u001b[0m\u001b[0m\n\u001b[1;32m      6\u001b[0m \u001b[0;31m#fig = plt.figure(figsize=(10, 8))\u001b[0m\u001b[0;34m\u001b[0m\u001b[0;34m\u001b[0m\u001b[0;34m\u001b[0m\u001b[0m\n\u001b[0;32m----> 7\u001b[0;31m \u001b[0mfig\u001b[0m \u001b[0;34m=\u001b[0m \u001b[0mplot_decision_regions\u001b[0m\u001b[0;34m(\u001b[0m\u001b[0mX\u001b[0m\u001b[0;34m=\u001b[0m\u001b[0mX\u001b[0m\u001b[0;34m,\u001b[0m \u001b[0my\u001b[0m\u001b[0;34m=\u001b[0m\u001b[0my\u001b[0m\u001b[0;34m.\u001b[0m\u001b[0mastype\u001b[0m\u001b[0;34m(\u001b[0m\u001b[0mnp\u001b[0m\u001b[0;34m.\u001b[0m\u001b[0minteger\u001b[0m\u001b[0;34m)\u001b[0m\u001b[0;34m,\u001b[0m\u001b[0mclf\u001b[0m\u001b[0;34m=\u001b[0m\u001b[0mclf\u001b[0m\u001b[0;34m,\u001b[0m \u001b[0mlegend\u001b[0m\u001b[0;34m=\u001b[0m\u001b[0;36m2\u001b[0m\u001b[0;34m)\u001b[0m\u001b[0;34m\u001b[0m\u001b[0;34m\u001b[0m\u001b[0m\n\u001b[0m",
            "\u001b[0;32m/usr/local/lib/python3.6/dist-packages/mlxtend/plotting/decision_regions.py\u001b[0m in \u001b[0;36mplot_decision_regions\u001b[0;34m(X, y, clf, feature_index, filler_feature_values, filler_feature_ranges, ax, X_highlight, res, legend, hide_spines, markers, colors, scatter_kwargs, contourf_kwargs, scatter_highlight_kwargs)\u001b[0m\n\u001b[1;32m    173\u001b[0m     \u001b[0;32mif\u001b[0m \u001b[0mdim\u001b[0m \u001b[0;34m>\u001b[0m \u001b[0;36m2\u001b[0m\u001b[0;34m:\u001b[0m\u001b[0;34m\u001b[0m\u001b[0;34m\u001b[0m\u001b[0m\n\u001b[1;32m    174\u001b[0m         \u001b[0;32mif\u001b[0m \u001b[0mfiller_feature_values\u001b[0m \u001b[0;32mis\u001b[0m \u001b[0;32mNone\u001b[0m\u001b[0;34m:\u001b[0m\u001b[0;34m\u001b[0m\u001b[0;34m\u001b[0m\u001b[0m\n\u001b[0;32m--> 175\u001b[0;31m             raise ValueError('Filler values must be provided when '\n\u001b[0m\u001b[1;32m    176\u001b[0m                              'X has more than 2 training features.')\n\u001b[1;32m    177\u001b[0m \u001b[0;34m\u001b[0m\u001b[0m\n",
            "\u001b[0;31mValueError\u001b[0m: Filler values must be provided when X has more than 2 training features."
          ]
        },
        {
          "output_type": "display_data",
          "data": {
            "image/png": "[encoded data removed]",
            "text/plain": [
              "<Figure size 432x288 with 1 Axes>"
            ]
          },
          "metadata": {
            "tags": [],
            "needs_background": "light"
          }
        }
      ]
    },
    {
      "cell_type": "code",
      "metadata": {
        "id": "61vLgi3lVBic"
      },
      "source": [
        ""
      ],
      "execution_count": null,
      "outputs": []
    }
  ]
}